{
  "cells": [
    {
      "cell_type": "markdown",
      "metadata": {
        "id": "view-in-github",
        "colab_type": "text"
      },
      "source": [
        "<a href=\"https://colab.research.google.com/github/Mahika474/Mahika474/blob/main/Autonomous_Delivery_Agent_CLI.ipynb\" target=\"_parent\"><img src=\"https://colab.research.google.com/assets/colab-badge.svg\" alt=\"Open In Colab\"/></a>"
      ]
    },
    {
      "cell_type": "code",
      "source": [
        "import argparse\n",
        "import time\n",
        "from environment import GridCity\n",
        "from agent import DeliveryAgent\n",
        "\n",
        "def main():\n",
        "    \"\"\"\n",
        "    Main function to run the autonomous delivery agent simulation.\n",
        "    Parses command-line arguments to select the map, algorithm, and agent goals.\n",
        "    \"\"\"\n",
        "    parser = argparse.ArgumentParser(description=\"Run Autonomous Delivery Agent Simulation\")\n",
        "    parser.add_argument(\"map\", help=\"Path to the map file (.grid)\")\n",
        "    parser.add_argument(\"algorithm\", choices=['ucs', 'astar', 'replan'], help=\"Algorithm to use (ucs, astar, replan)\")\n",
        "\n",
        "    args = parser.parse_args()\n",
        "\n",
        "    # --- Load Environment ---\n",
        "    print(f\"Loading map from {args.map}...\")\n",
        "    environment = GridCity(args.map)\n",
        "    start_node = environment.start\n",
        "    goal_node = environment.goal\n",
        "    print(f\"Start: {start_node}, Goal: {goal_node}\")\n",
        "    print(\"Map loaded successfully.\")\n",
        "    # environment.display() # Optional: display the map\n",
        "\n",
        "    # --- Initialize Agent ---\n",
        "    agent = DeliveryAgent(environment)\n",
        "\n",
        "    # --- Run Selected Algorithm ---\n",
        "    path = None\n",
        "    expanded_nodes = 0\n",
        "\n",
        "    start_time = time.time()\n",
        "\n",
        "    if args.algorithm == 'ucs':\n",
        "        print(\"\\nRunning Uniform-Cost Search...\")\n",
        "        path, expanded_nodes = agent.uniform_cost_search(start_node, goal_node)\n",
        "\n",
        "    elif args.algorithm == 'astar':\n",
        "        print(\"\\nRunning A* Search...\")\n",
        "        path, expanded_nodes = agent.a_star_search(start_node, goal_node)\n",
        "\n",
        "    elif args.algorithm == 'replan':\n",
        "        print(\"\\nRunning Simulation with Replanning...\")\n",
        "        # This is a proof-of-concept simulation loop for dynamic replanning\n",
        "        current_pos = start_node\n",
        "        path = [current_pos]\n",
        "        total_expanded_nodes = 0\n",
        "\n",
        "        # Initial plan using A*\n",
        "        print(f\"[Time 0] Planning initial path from {current_pos} to {goal_node}\")\n",
        "        current_plan, nodes_exp = agent.a_star_search(current_pos, goal_node)\n",
        "        total_expanded_nodes += nodes_exp\n",
        "\n",
        "        if not current_plan:\n",
        "            print(\"No initial path found!\")\n",
        "            return\n",
        "\n",
        "        print(f\"Initial plan: {current_plan}\")\n",
        "\n",
        "        # Simulation loop\n",
        "        simulation_time = 0\n",
        "        while current_pos != goal_node:\n",
        "            simulation_time += 1\n",
        "\n",
        "            # Move agent one step along the plan\n",
        "            if not current_plan:\n",
        "                print(f\"[Time {simulation_time}] Stuck! No path found.\")\n",
        "                break\n",
        "\n",
        "            next_step = current_plan.pop(0)\n",
        "\n",
        "            # Check if the next step is now blocked by a dynamic obstacle\n",
        "            if environment.is_obstacle(next_step, simulation_time):\n",
        "                print(f\"--- DYNAMIC OBSTACLE DETECTED! ---\")\n",
        "                print(f\"[Time {simulation_time}] Obstacle at {next_step}. Current position: {current_pos}.\")\n",
        "                print(\"Replanning path...\")\n",
        "\n",
        "                # Here you would implement your local search (hill-climbing, etc.)\n",
        "                # For this proof-of-concept, we just re-run A* from the current position.\n",
        "                new_plan, nodes_exp = agent.a_star_search(current_pos, goal_node, current_time=simulation_time)\n",
        "                total_expanded_nodes += nodes_exp\n",
        "\n",
        "                if not new_plan:\n",
        "                    print(f\"[Time {simulation_time}] Replanning failed. No path found.\")\n",
        "                    path = None # Indicate failure\n",
        "                    break\n",
        "\n",
        "                current_plan = new_plan\n",
        "                print(f\"New plan: {current_plan}\")\n",
        "                # Take the first step of the new plan\n",
        "                next_step = current_plan.pop(0)\n",
        "\n",
        "            # Move to the next step\n",
        "            current_pos = next_step\n",
        "            path.append(current_pos)\n",
        "            environment.update_agent_position(current_pos) # For visualization/logging\n",
        "            print(f\"[Time {simulation_time}] Agent moved to {current_pos}\")\n",
        "\n",
        "        expanded_nodes = total_expanded_nodes # For reporting\n",
        "\n",
        "\n",
        "    end_time = time.time()\n",
        "\n",
        "    # --- Report Results ---\n",
        "    print(\"\\n--- RESULTS ---\")\n",
        "    if path:\n",
        "        path_cost = agent.calculate_path_cost(path)\n",
        "        print(f\"Path Found: {' -> '.join(map(str, path))}\")\n",
        "        print(f\"Path Cost: {path_cost}\")\n",
        "        print(f\"Path Length: {len(path) - 1} steps\")\n",
        "    else:\n",
        "        print(\"Path not found!\")\n",
        "\n",
        "    print(f\"Nodes Expanded: {expanded_nodes}\")\n",
        "    print(f\"Execution Time: {end_time - start_time:.6f} seconds\")\n",
        "    print(\"---------------\")\n",
        "\n",
        "\n",
        "if __name__ == \"__main__\":\n",
        "    main()"
      ],
      "outputs": [
        {
          "output_type": "error",
          "ename": "ModuleNotFoundError",
          "evalue": "No module named 'environment'",
          "traceback": [
            "\u001b[0;31m---------------------------------------------------------------------------\u001b[0m",
            "\u001b[0;31mModuleNotFoundError\u001b[0m                       Traceback (most recent call last)",
            "\u001b[0;32m/tmp/ipython-input-2657011835.py\u001b[0m in \u001b[0;36m<cell line: 0>\u001b[0;34m()\u001b[0m\n\u001b[1;32m      1\u001b[0m \u001b[0;32mimport\u001b[0m \u001b[0margparse\u001b[0m\u001b[0;34m\u001b[0m\u001b[0;34m\u001b[0m\u001b[0m\n\u001b[1;32m      2\u001b[0m \u001b[0;32mimport\u001b[0m \u001b[0mtime\u001b[0m\u001b[0;34m\u001b[0m\u001b[0;34m\u001b[0m\u001b[0m\n\u001b[0;32m----> 3\u001b[0;31m \u001b[0;32mfrom\u001b[0m \u001b[0menvironment\u001b[0m \u001b[0;32mimport\u001b[0m \u001b[0mGridCity\u001b[0m\u001b[0;34m\u001b[0m\u001b[0;34m\u001b[0m\u001b[0m\n\u001b[0m\u001b[1;32m      4\u001b[0m \u001b[0;32mfrom\u001b[0m \u001b[0magent\u001b[0m \u001b[0;32mimport\u001b[0m \u001b[0mDeliveryAgent\u001b[0m\u001b[0;34m\u001b[0m\u001b[0;34m\u001b[0m\u001b[0m\n\u001b[1;32m      5\u001b[0m \u001b[0;34m\u001b[0m\u001b[0m\n",
            "\u001b[0;31mModuleNotFoundError\u001b[0m: No module named 'environment'",
            "",
            "\u001b[0;31m---------------------------------------------------------------------------\u001b[0;32m\nNOTE: If your import is failing due to a missing package, you can\nmanually install dependencies using either !pip or !apt.\n\nTo view examples of installing some common dependencies, click the\n\"Open Examples\" button below.\n\u001b[0;31m---------------------------------------------------------------------------\u001b[0m\n"
          ],
          "errorDetails": {
            "actions": [
              {
                "action": "open_url",
                "actionText": "Open Examples",
                "url": "/notebooks/snippets/importing_libraries.ipynb"
              }
            ]
          }
        }
      ],
      "execution_count": 1,
      "metadata": {
        "colab": {
          "base_uri": "https://localhost:8080/",
          "height": 383
        },
        "id": "UIIfroq4nOjk",
        "outputId": "526b0aa4-d565-434b-d7a8-1c4f7b58f4ad"
      }
    }
  ],
  "metadata": {
    "colab": {
      "provenance": [],
      "include_colab_link": true
    },
    "kernelspec": {
      "display_name": "Python 3",
      "name": "python3"
    }
  },
  "nbformat": 4,
  "nbformat_minor": 0
}